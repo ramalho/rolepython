{
 "cells": [
  {
   "cell_type": "markdown",
   "metadata": {},
   "source": [
    "<!--BOOK_INFORMATION-->\n",
    "<img align=\"left\" style=\"padding-right:10px;\" src=\"fig/cover-small.jpg\">\n",
    "*Este notebook contém um trecho do [Whirlwind Tour of Python](http://www.oreilly.com/programming/free/a-whirlwind-tour-of-python.csp) por Jake VanderPlas; o conteúdo está disponível [no GitHub](https://github.com/jakevdp/WhirlwindTourOfPython).*\n",
    "\n",
    "*O texto e código são liberados sob a licença [CC0](https://github.com/jakevdp/WhirlwindTourOfPython/blob/master/LICENSE); veja também o projeto complementar, o [Python Data Science Handbook](https://github.com/jakevdp/PythonDataScienceHandbook).*"
   ]
  },
  {
   "cell_type": "markdown",
   "metadata": {},
   "source": [
    "<!--NAVIGATION-->\n",
    "< [Tipos Embutidos: Valores Simples](05-Built-in-Scalar-Types.ipynb) | [Contents](Index.ipynb) | [Controle de Fluxo](07-Control-Flow-Statements.ipynb) >"
   ]
  },
  {
   "cell_type": "markdown",
   "metadata": {},
   "source": [
    "# Estruturas de Dados Embutidas"
   ]
  },
  {
   "cell_type": "markdown",
   "metadata": {},
   "source": [
    "Já vimos os tipos simples do Python: ``int``, ``float``, ``complex``, ``bool``, ``str`` e assim por diante.\n",
    "O Python também tem vários tipos compostos incorporados, que funcionam como contêineres para outros tipos.\n",
    "Esses tipos compostos são:\n",
    "\n",
    "| Nome do tipo | Exemplo                   | Descrição                                  |\n",
    "|--------------|---------------------------|--------------------------------------------|\n",
    "| ``list``     | ``[1, 2, 3]``             | Coleção ordenada                           |\n",
    "| ``tuple``    | ``(1, 2, 3)``             | Coleção ordenada imutável                  |\n",
    "| ``dict``     | ``{'a':1, 'b':2, 'c':3}`` | Mapeamento (chave, valor) não ordenado     |\n",
    "| ``set``      | ``{1, 2, 3}``             | Coleção não ordenada de valores exclusivos |\n",
    "\n",
    "Como você pode ver, parênteses, colchetes e chaves têm significados distintos quando se trata do tipo de coleção produzida.\n",
    "Faremos um rápido tour por essas estruturas de dados aqui."
   ]
  },
  {
   "cell_type": "markdown",
   "metadata": {},
   "source": [
    "## Listas\n",
    "As listas são o tipo de coleção de dados básico *ordenado* e *mutável* do Python.\n",
    "Elas podem ser definidas com valores separados por vírgulas entre colchetes. Por exemplo, aqui está uma lista dos  números primos iniciais:"
   ]
  },
  {
   "cell_type": "code",
   "execution_count": 1,
   "metadata": {
    "collapsed": false
   },
   "outputs": [],
   "source": [
    "L = [2, 3, 5, 7]"
   ]
  },
  {
   "cell_type": "markdown",
   "metadata": {},
   "source": [
    "As listas têm várias propriedades e métodos úteis disponíveis.\n",
    "Aqui, daremos uma rápida olhada em algumas das mais comuns e úteis:"
   ]
  },
  {
   "cell_type": "code",
   "execution_count": null,
   "metadata": {
    "collapsed": false
   },
   "outputs": [
    {
     "data": {
      "text/plain": [
       "4"
      ]
     },
     "execution_count": 2,
     "metadata": {},
     "output_type": "execute_result"
    }
   ],
   "source": [
    "# Comprimento de uma lista\n",
    "len(L)"
   ]
  },
  {
   "cell_type": "code",
   "execution_count": null,
   "metadata": {
    "collapsed": false
   },
   "outputs": [
    {
     "data": {
      "text/plain": [
       "[2, 3, 5, 7, 11]"
      ]
     },
     "execution_count": 3,
     "metadata": {},
     "output_type": "execute_result"
    }
   ],
   "source": [
    "# Adiciona um valor no final\n",
    "L.append(11)\n",
    "L"
   ]
  },
  {
   "cell_type": "code",
   "execution_count": null,
   "metadata": {
    "collapsed": false
   },
   "outputs": [
    {
     "data": {
      "text/plain": [
       "[2, 3, 5, 7, 11, 13, 17, 19]"
      ]
     },
     "execution_count": 4,
     "metadata": {},
     "output_type": "execute_result"
    }
   ],
   "source": [
    "# Adição concatena listas\n",
    "L + [13, 17, 19]"
   ]
  },
  {
   "cell_type": "code",
   "execution_count": null,
   "metadata": {
    "collapsed": false
   },
   "outputs": [
    {
     "data": {
      "text/plain": [
       "[1, 2, 3, 4, 5, 6]"
      ]
     },
     "execution_count": 5,
     "metadata": {},
     "output_type": "execute_result"
    }
   ],
   "source": [
    "# O método sort() ordena internamente\n",
    "L = [2, 5, 1, 6, 3, 4]\n",
    "L.sort()\n",
    "L"
   ]
  },
  {
   "cell_type": "markdown",
   "metadata": {},
   "source": [
    "Além disso, há muitos outros métodos de lista embutidos. Eles são bem cobertos na [documentação on-line](https://docs.python.org/3/tutorial/datastructures.html) do Python.\n",
    "\n",
    "Embora tenhamos demonstrado listas contendo valores de um único tipo, um dos recursos poderosos dos objetos compostos do Python é que eles podem conter objetos de *qualquer* tipo, ou até mesmo uma mistura de tipos. Por exemplo:"
   ]
  },
  {
   "cell_type": "code",
   "execution_count": 6,
   "metadata": {
    "collapsed": false
   },
   "outputs": [],
   "source": [
    "L = [1, 'two', 3.14, [0, 3, 5]]"
   ]
  },
  {
   "cell_type": "markdown",
   "metadata": {},
   "source": [
    "Essa flexibilidade é uma consequência do sistema de tipos dinâmicos do Python.\n",
    "Criar uma sequência mista desse tipo em uma linguagem de tipo estático como C pode ser uma dor de cabeça muito maior!\n",
    "Vemos que as listas podem até mesmo conter outras listas como elementos.\n",
    "Essa flexibilidade de tipos é uma parte essencial do que torna o código Python relativamente rápido e fácil de escrever.\n",
    "\n",
    "Até agora, consideramos as manipulações de listas como um todo. Outra parte essencial é o acesso a elementos individuais.\n",
    "Isso é feito em Python por meio de *indexação* e *fatiamento*, que exploraremos a seguir."
   ]
  },
  {
   "cell_type": "markdown",
   "metadata": {},
   "source": [
    "### Indexação e Fatiamento de Listas\n",
    "O Python fornece acesso a elementos em tipos compostos por meio de *indexação* para elementos únicos e *fatiamento* para vários elementos.\n",
    "Como veremos, ambos são indicados por uma sintaxe de colchetes.\n",
    "Agora voltemos à nossa lista dos primeiros números primos:"
   ]
  },
  {
   "cell_type": "code",
   "execution_count": 7,
   "metadata": {
    "collapsed": false
   },
   "outputs": [],
   "source": [
    "L = [2, 3, 5, 7, 11]"
   ]
  },
  {
   "cell_type": "markdown",
   "metadata": {},
   "source": [
    "O Python usa indexação *baseada em zero*, assim podemos acessar o primeiro e o segundo elemento usando a seguinte sintaxe:"
   ]
  },
  {
   "cell_type": "code",
   "execution_count": 8,
   "metadata": {
    "collapsed": false
   },
   "outputs": [
    {
     "data": {
      "text/plain": [
       "2"
      ]
     },
     "execution_count": 8,
     "metadata": {},
     "output_type": "execute_result"
    }
   ],
   "source": [
    "L[0]"
   ]
  },
  {
   "cell_type": "code",
   "execution_count": 9,
   "metadata": {
    "collapsed": false
   },
   "outputs": [
    {
     "data": {
      "text/plain": [
       "3"
      ]
     },
     "execution_count": 9,
     "metadata": {},
     "output_type": "execute_result"
    }
   ],
   "source": [
    "L[1]"
   ]
  },
  {
   "cell_type": "markdown",
   "metadata": {},
   "source": [
    "Os elementos no final da lista podem ser acessados com números negativos, iniciando em -1:"
   ]
  },
  {
   "cell_type": "code",
   "execution_count": 10,
   "metadata": {
    "collapsed": false
   },
   "outputs": [
    {
     "data": {
      "text/plain": [
       "11"
      ]
     },
     "execution_count": 10,
     "metadata": {},
     "output_type": "execute_result"
    }
   ],
   "source": [
    "L[-1]"
   ]
  },
  {
   "cell_type": "code",
   "execution_count": 11,
   "metadata": {
    "collapsed": false
   },
   "outputs": [
    {
     "data": {
      "text/plain": [
       "7"
      ]
     },
     "execution_count": 11,
     "metadata": {},
     "output_type": "execute_result"
    }
   ],
   "source": [
    "L[-2]"
   ]
  },
  {
   "cell_type": "markdown",
   "metadata": {},
   "source": [
    "Você pode visualizar esse esquema de indexação da seguinte forma:"
   ]
  },
  {
   "cell_type": "markdown",
   "metadata": {
    "collapsed": false
   },
   "source": [
    "![List Indexing Figure](fig/list-indexing.png)"
   ]
  },
  {
   "cell_type": "markdown",
   "metadata": {},
   "source": [
    "Aqui os valores da lista são representados por números grandes nos quadrados; os índices da lista são representados por números pequenos acima e abaixo.\n",
    "Nesse caso, ``L[2]`` retorna ``5``, pois esse é o próximo valor no índice ``2``."
   ]
  },
  {
   "cell_type": "markdown",
   "metadata": {},
   "source": [
    "Enquanto a *indexação* é um meio de buscar um único valor da lista, o *fatiamento* é um meio de acessar vários valores em sub-listas.\n",
    "Ele usa dois pontos para indicar o ponto inicial (inclusive) e o ponto final (não inclusive) da sub-lista.\n",
    "Por exemplo, para obter os três primeiros elementos da lista, podemos escrever:"
   ]
  },
  {
   "cell_type": "code",
   "execution_count": 12,
   "metadata": {
    "collapsed": false
   },
   "outputs": [
    {
     "data": {
      "text/plain": [
       "[2, 3, 5]"
      ]
     },
     "execution_count": 12,
     "metadata": {},
     "output_type": "execute_result"
    }
   ],
   "source": [
    "L[0:3]"
   ]
  },
  {
   "cell_type": "markdown",
   "metadata": {},
   "source": [
    "Observe onde ``0`` e ``3`` se encontram no diagrama anterior e como o fatiamento pega apenas os valores entre os índices.\n",
    "Se omitirmos o primeiro índice, ``0`` é assumido, de modo que podemos escrever de forma equivalente:"
   ]
  },
  {
   "cell_type": "code",
   "execution_count": 13,
   "metadata": {
    "collapsed": false
   },
   "outputs": [
    {
     "data": {
      "text/plain": [
       "[2, 3, 5]"
      ]
     },
     "execution_count": 13,
     "metadata": {},
     "output_type": "execute_result"
    }
   ],
   "source": [
    "L[:3]"
   ]
  },
  {
   "cell_type": "markdown",
   "metadata": {},
   "source": [
    "Da mesma forma, se omitirmos o último índice, ele assumirá como padrão o comprimento da lista.\n",
    "Assim, os três últimos elementos podem ser acessados da seguinte forma:"
   ]
  },
  {
   "cell_type": "code",
   "execution_count": 14,
   "metadata": {
    "collapsed": false
   },
   "outputs": [
    {
     "data": {
      "text/plain": [
       "[5, 7, 11]"
      ]
     },
     "execution_count": 14,
     "metadata": {},
     "output_type": "execute_result"
    }
   ],
   "source": [
    "L[-3:]"
   ]
  },
  {
   "cell_type": "markdown",
   "metadata": {},
   "source": [
    "Por fim, é possível especificar um terceiro número inteiro que representa o tamanho dos passos. Por exemplo, para selecionar cada segundo elemento da lista, podemos escrever:"
   ]
  },
  {
   "cell_type": "code",
   "execution_count": null,
   "metadata": {
    "collapsed": false
   },
   "outputs": [
    {
     "data": {
      "text/plain": [
       "[2, 5, 11]"
      ]
     },
     "execution_count": 15,
     "metadata": {},
     "output_type": "execute_result"
    }
   ],
   "source": [
    "L[::2]  # equivalente a L[0:len(L):2]"
   ]
  },
  {
   "cell_type": "markdown",
   "metadata": {},
   "source": [
    "Uma versão especialmente útil disso é especificar um passo negativo, que inverterá a lista:"
   ]
  },
  {
   "cell_type": "code",
   "execution_count": 16,
   "metadata": {
    "collapsed": false
   },
   "outputs": [
    {
     "data": {
      "text/plain": [
       "[11, 7, 5, 3, 2]"
      ]
     },
     "execution_count": 16,
     "metadata": {},
     "output_type": "execute_result"
    }
   ],
   "source": [
    "L[::-1]"
   ]
  },
  {
   "cell_type": "markdown",
   "metadata": {},
   "source": [
    "Tanto a indexação quanto o fatiamento podem ser usados para atribuir elementos da mesma maneira que os acessa.\n",
    "A sintaxe é como você poderia esperar:"
   ]
  },
  {
   "cell_type": "code",
   "execution_count": 17,
   "metadata": {
    "collapsed": false
   },
   "outputs": [
    {
     "name": "stdout",
     "output_type": "stream",
     "text": [
      "[100, 3, 5, 7, 11]\n"
     ]
    }
   ],
   "source": [
    "L[0] = 100\n",
    "print(L)"
   ]
  },
  {
   "cell_type": "code",
   "execution_count": 18,
   "metadata": {
    "collapsed": false
   },
   "outputs": [
    {
     "name": "stdout",
     "output_type": "stream",
     "text": [
      "[100, 55, 56, 7, 11]\n"
     ]
    }
   ],
   "source": [
    "L[1:3] = [55, 56]\n",
    "print(L)"
   ]
  },
  {
   "cell_type": "markdown",
   "metadata": {},
   "source": [
    "Uma sintaxe de fatiamento muito semelhante também é usada em muitos pacotes voltados para a ciência de dados, incluindo o NumPy e o Pandas (mencionados na introdução).\n",
    "\n",
    "Agora que já vimos as listas do Python e como acessar elementos em tipos compostos ordenados, vamos dar uma olhada nos outros três tipos de dados compostos padrão mencionados anteriormente."
   ]
  },
  {
   "cell_type": "markdown",
   "metadata": {},
   "source": [
    "## Tuplas\n",
    "As tuplas são, em muitos aspectos, semelhantes às listas, mas são definidas com parênteses em vez de colchetes:"
   ]
  },
  {
   "cell_type": "code",
   "execution_count": 19,
   "metadata": {
    "collapsed": false
   },
   "outputs": [],
   "source": [
    "t = (1, 2, 3)"
   ]
  },
  {
   "cell_type": "markdown",
   "metadata": {},
   "source": [
    "Eles também podem ser definidos sem nenhum colchete:"
   ]
  },
  {
   "cell_type": "code",
   "execution_count": 20,
   "metadata": {
    "collapsed": false
   },
   "outputs": [
    {
     "name": "stdout",
     "output_type": "stream",
     "text": [
      "(1, 2, 3)\n"
     ]
    }
   ],
   "source": [
    "t = 1, 2, 3\n",
    "print(t)"
   ]
  },
  {
   "cell_type": "markdown",
   "metadata": {},
   "source": [
    "Como as listas discutidas anteriormente, as tuplas têm um comprimento e os elementos individuais podem ser extraídos usando a indexação de colchetes:"
   ]
  },
  {
   "cell_type": "code",
   "execution_count": 21,
   "metadata": {
    "collapsed": false
   },
   "outputs": [
    {
     "data": {
      "text/plain": [
       "3"
      ]
     },
     "execution_count": 21,
     "metadata": {},
     "output_type": "execute_result"
    }
   ],
   "source": [
    "len(t)"
   ]
  },
  {
   "cell_type": "code",
   "execution_count": 22,
   "metadata": {
    "collapsed": false
   },
   "outputs": [
    {
     "data": {
      "text/plain": [
       "1"
      ]
     },
     "execution_count": 22,
     "metadata": {},
     "output_type": "execute_result"
    }
   ],
   "source": [
    "t[0]"
   ]
  },
  {
   "cell_type": "markdown",
   "metadata": {},
   "source": [
    "A principal característica distintiva das tuplas é que elas são *imutáveis*: isso significa que, uma vez criadas, seu tamanho e conteúdo não podem ser alterados:"
   ]
  },
  {
   "cell_type": "code",
   "execution_count": 23,
   "metadata": {
    "collapsed": false
   },
   "outputs": [
    {
     "ename": "TypeError",
     "evalue": "'tuple' object does not support item assignment",
     "output_type": "error",
     "traceback": [
      "\u001b[0;31m---------------------------------------------------------------------------\u001b[0m",
      "\u001b[0;31mTypeError\u001b[0m                                 Traceback (most recent call last)",
      "\u001b[0;32m<ipython-input-23-141c76cb54a2>\u001b[0m in \u001b[0;36m<module>\u001b[0;34m()\u001b[0m\n\u001b[0;32m----> 1\u001b[0;31m \u001b[0mt\u001b[0m\u001b[0;34m[\u001b[0m\u001b[0;36m1\u001b[0m\u001b[0;34m]\u001b[0m \u001b[0;34m=\u001b[0m \u001b[0;36m4\u001b[0m\u001b[0;34m\u001b[0m\u001b[0m\n\u001b[0m",
      "\u001b[0;31mTypeError\u001b[0m: 'tuple' object does not support item assignment"
     ]
    }
   ],
   "source": [
    "t[1] = 4"
   ]
  },
  {
   "cell_type": "code",
   "execution_count": 24,
   "metadata": {
    "collapsed": false
   },
   "outputs": [
    {
     "ename": "AttributeError",
     "evalue": "'tuple' object has no attribute 'append'",
     "output_type": "error",
     "traceback": [
      "\u001b[0;31m---------------------------------------------------------------------------\u001b[0m",
      "\u001b[0;31mAttributeError\u001b[0m                            Traceback (most recent call last)",
      "\u001b[0;32m<ipython-input-24-e8bd1632f9dd>\u001b[0m in \u001b[0;36m<module>\u001b[0;34m()\u001b[0m\n\u001b[0;32m----> 1\u001b[0;31m \u001b[0mt\u001b[0m\u001b[0;34m.\u001b[0m\u001b[0mappend\u001b[0m\u001b[0;34m(\u001b[0m\u001b[0;36m4\u001b[0m\u001b[0;34m)\u001b[0m\u001b[0;34m\u001b[0m\u001b[0m\n\u001b[0m",
      "\u001b[0;31mAttributeError\u001b[0m: 'tuple' object has no attribute 'append'"
     ]
    }
   ],
   "source": [
    "t.append(4)"
   ]
  },
  {
   "cell_type": "markdown",
   "metadata": {},
   "source": [
    "As tuplas são usadas com frequência em um programa Python. Um caso particularmente comum é em funções que têm vários valores de retorno.\n",
    "Por exemplo, o método ``as_integer_ratio()`` de objetos de ponto flutuante retorna um numerador e um denominador. Esse valor de retorno duplo vem na forma de uma tupla:"
   ]
  },
  {
   "cell_type": "code",
   "execution_count": 25,
   "metadata": {
    "collapsed": false
   },
   "outputs": [
    {
     "data": {
      "text/plain": [
       "(1, 8)"
      ]
     },
     "execution_count": 25,
     "metadata": {},
     "output_type": "execute_result"
    }
   ],
   "source": [
    "x = 0.125\n",
    "x.as_integer_ratio()"
   ]
  },
  {
   "cell_type": "markdown",
   "metadata": {},
   "source": [
    "Esse retorno de valores múltiplos podem ser atribuídos individualmente da seguinte forma:"
   ]
  },
  {
   "cell_type": "code",
   "execution_count": 26,
   "metadata": {
    "collapsed": false
   },
   "outputs": [
    {
     "name": "stdout",
     "output_type": "stream",
     "text": [
      "0.125\n"
     ]
    }
   ],
   "source": [
    "numerator, denominator = x.as_integer_ratio()\n",
    "print(numerator / denominator)"
   ]
  },
  {
   "cell_type": "markdown",
   "metadata": {},
   "source": [
    "A lógica de indexação e fatiamento abordada anteriormente para listas também funciona para tuplas, juntamente com uma série de outros métodos.\n",
    "Consulte a [documentação](https://docs.python.org/3/tutorial/datastructures.html) on-line do Python para obter uma lista mais completa deles."
   ]
  },
  {
   "cell_type": "markdown",
   "metadata": {},
   "source": [
    "## Dicionários\n",
    "Os dicionários são mapeamentos extremamente flexíveis de chaves para valores e formam a base de grande parte da implementação interna do Python.\n",
    "Eles podem ser criados por meio de uma lista separada por vírgulas de pares ``chave:valor`` entre chaves:"
   ]
  },
  {
   "cell_type": "code",
   "execution_count": 27,
   "metadata": {
    "collapsed": false
   },
   "outputs": [],
   "source": [
    "numbers = {'one':1, 'two':2, 'three':3}"
   ]
  },
  {
   "cell_type": "markdown",
   "metadata": {},
   "source": [
    "Os itens são acessados e definidos por meio da sintaxe de indexação usada para listas e tuplas, exceto que aqui o índice não é uma ordem baseada em zero, mas uma chave válida no dicionário:"
   ]
  },
  {
   "cell_type": "code",
   "execution_count": null,
   "metadata": {
    "collapsed": false
   },
   "outputs": [
    {
     "data": {
      "text/plain": [
       "2"
      ]
     },
     "execution_count": 28,
     "metadata": {},
     "output_type": "execute_result"
    }
   ],
   "source": [
    "# Acessar um valor através da chave\n",
    "numbers['two']"
   ]
  },
  {
   "cell_type": "markdown",
   "metadata": {},
   "source": [
    "Itens novos também podem ser adicionados ao dicionário usando a indexação:"
   ]
  },
  {
   "cell_type": "code",
   "execution_count": null,
   "metadata": {
    "collapsed": false
   },
   "outputs": [
    {
     "name": "stdout",
     "output_type": "stream",
     "text": [
      "{'three': 3, 'ninety': 90, 'two': 2, 'one': 1}\n"
     ]
    }
   ],
   "source": [
    "# Definir um novo par chave:valor\n",
    "numbers['ninety'] = 90\n",
    "print(numbers)"
   ]
  },
  {
   "cell_type": "markdown",
   "metadata": {},
   "source": [
    "Lembre-se de que os dicionários não mantêm nenhuma ordenação para os parâmetros de entrada. Isso é intencional.\n",
    "Essa falta de ordenação permite que os dicionários sejam implementados de forma muito eficiente, de modo que o acesso a elementos aleatórios seja muito rápido, independentemente do tamanho do dicionário (se estiver curioso para saber como isso funciona, leia sobre o conceito *tabela hash*).\n",
    "A [documentação do Python](https://docs.python.org/3/library/stdtypes.html) tem uma lista completa dos métodos disponíveis para os dicionários."
   ]
  },
  {
   "cell_type": "markdown",
   "metadata": {},
   "source": [
    "## Conjuntos\n",
    "\n",
    "A quarta coleção básica é o conjunto, que contém coleções não ordenadas de itens únicos.\n",
    "Eles são definidos de forma muito parecida com as listas e as tuplas, exceto pelo fato de usarem as chaves dos dicionários:"
   ]
  },
  {
   "cell_type": "code",
   "execution_count": 30,
   "metadata": {
    "collapsed": false
   },
   "outputs": [],
   "source": [
    "primes = {2, 3, 5, 7}\n",
    "odds = {1, 3, 5, 7, 9}"
   ]
  },
  {
   "cell_type": "markdown",
   "metadata": {},
   "source": [
    "Se você estiver familiarizado com a matemática de conjuntos, estará familiarizado com operações como união, interseção, diferença, diferença simétrica e outras.\n",
    "Os conjuntos do Python têm todas essas operações incorporadas, por meio de métodos ou operadores.\n",
    "Para cada uma delas, mostraremos os dois métodos equivalentes:"
   ]
  },
  {
   "cell_type": "code",
   "execution_count": null,
   "metadata": {
    "collapsed": false
   },
   "outputs": [
    {
     "data": {
      "text/plain": [
       "{1, 2, 3, 5, 7, 9}"
      ]
     },
     "execution_count": 31,
     "metadata": {},
     "output_type": "execute_result"
    }
   ],
   "source": [
    "# união: itens que aparecem em um ou outro\n",
    "primes | odds      # com o operador\n",
    "primes.union(odds) # equivalente com o método"
   ]
  },
  {
   "cell_type": "code",
   "execution_count": null,
   "metadata": {
    "collapsed": false
   },
   "outputs": [
    {
     "data": {
      "text/plain": [
       "{3, 5, 7}"
      ]
     },
     "execution_count": 32,
     "metadata": {},
     "output_type": "execute_result"
    }
   ],
   "source": [
    "# interseção: itens que aparecem em ambos\n",
    "primes & odds             # com o operador\n",
    "primes.intersection(odds) # equivalente com o método"
   ]
  },
  {
   "cell_type": "code",
   "execution_count": null,
   "metadata": {
    "collapsed": false
   },
   "outputs": [
    {
     "data": {
      "text/plain": [
       "{2}"
      ]
     },
     "execution_count": 33,
     "metadata": {},
     "output_type": "execute_result"
    }
   ],
   "source": [
    "# diferença: itens em primos, mas não em ímpares\n",
    "primes - odds           # com o operador\n",
    "primes.difference(odds) # equivalente com o método"
   ]
  },
  {
   "cell_type": "code",
   "execution_count": null,
   "metadata": {
    "collapsed": false
   },
   "outputs": [
    {
     "data": {
      "text/plain": [
       "{1, 2, 9}"
      ]
     },
     "execution_count": 34,
     "metadata": {},
     "output_type": "execute_result"
    }
   ],
   "source": [
    "# diferença simétrica: itens que aparecem em apenas um conjunto\n",
    "primes ^ odds                     # com o operador\n",
    "primes.symmetric_difference(odds) # equivalente com o método"
   ]
  },
  {
   "cell_type": "markdown",
   "metadata": {},
   "source": [
    "Há muitos outros métodos e operações de conjunto disponíveis.\n",
    "Você provavelmente já adivinhou o que vou dizer a seguir: consulte a [documentação](https://docs.python.org/3/library/stdtypes.html) on-line do Python para obter uma referência completa."
   ]
  },
  {
   "cell_type": "markdown",
   "metadata": {},
   "source": [
    "## Mais Estruturas de Dados Especializadas\n",
    "\n",
    "O Python contém muitas outras estruturas de dados que podem ser úteis. Elas geralmente podem ser encontradas no módulo embutido ``collections``.\n",
    "O módulo collections está totalmente documentado na [documentação](https://docs.python.org/3/library/collections.html) on-line do Python, e você pode ler mais sobre os vários objetos disponíveis lá.\n",
    "\n",
    "Particularmente, achei o seguinte muito útil em várias ocasiões:\n",
    "\n",
    "- ``collections.namedtuple``: Como uma tupla, mas cada valor tem um nome\n",
    "- ``collections.defaultdict``: Como um dicionário, mas as chaves não especificadas têm um valor padrão especificado pelo usuário.\n",
    "- ``collections.OrderedDict``: Como um dicionário, mas a ordem das chaves é mantida\n",
    "\n",
    "Depois de conhecer os tipos de coleção padrão embutidos, o uso dessas funcionalidades estendidas é muito intuitivo, e eu sugiro [ler sobre seu uso](https://docs.python.org/3/library/collections.html)."
   ]
  },
  {
   "cell_type": "markdown",
   "metadata": {},
   "source": [
    "<!--NAVIGATION-->\n",
    "< [Tipos Embutidos: Valores Simples](05-Built-in-Scalar-Types.ipynb) | [Contents](Index.ipynb) | [Controle de Fluxo](07-Control-Flow-Statements.ipynb) >"
   ]
  }
 ],
 "metadata": {
  "anaconda-cloud": {},
  "kernelspec": {
   "display_name": "Python 3",
   "language": "python",
   "name": "python3"
  },
  "language_info": {
   "codemirror_mode": {
    "name": "ipython",
    "version": 3
   },
   "file_extension": ".py",
   "mimetype": "text/x-python",
   "name": "python",
   "nbconvert_exporter": "python",
   "pygments_lexer": "ipython3",
   "version": "3.5.1"
  }
 },
 "nbformat": 4,
 "nbformat_minor": 0
}
