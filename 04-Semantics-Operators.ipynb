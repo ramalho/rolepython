{
 "cells": [
  {
   "cell_type": "markdown",
   "metadata": {},
   "source": [
    "<!--BOOK_INFORMATION-->\n",
    "<img align=\"left\" style=\"padding-right:10px;\" src=\"fig/cover-small.jpg\">\n",
    "*Este notebook contém um trecho do [Whirlwind Tour of Python](http://www.oreilly.com/programming/free/a-whirlwind-tour-of-python.csp) por Jake VanderPlas; o conteúdo está disponível [no GitHub](https://github.com/jakevdp/WhirlwindTourOfPython).*\n",
    "\n",
    "*O texto e código são liberados sob a licença [CC0](https://github.com/jakevdp/WhirlwindTourOfPython/blob/master/LICENSE); veja também o projeto complementar, o [Python Data Science Handbook](https://github.com/jakevdp/PythonDataScienceHandbook).*"
   ]
  },
  {
   "cell_type": "markdown",
   "metadata": {},
   "source": [
    "<!--NAVIGATION-->\n",
    "< [Semântica Básica do Python: Variáveis e Objetos](03-Semantics-Variables.ipynb) | [Conteúdo](Index.ipynb) | [Tipos Internos: Valores Simples](05-Built-in-Scalar-Types.ipynb) >"
   ]
  },
  {
   "cell_type": "markdown",
   "metadata": {},
   "source": [
    "# Semântica Básica do Python: Operadores"
   ]
  },
  {
   "cell_type": "markdown",
   "metadata": {},
   "source": [
    "Na seção anterior, começamos a analisar a semântica das variáveis e objetos do Python. Aqui, vamos nos aprofundar na semântica dos vários *operadores* incluídos na linguagem.\n",
    "Ao final desta seção, você terá as ferramentas básicas para começar a comparar e operar dados em Python."
   ]
  },
  {
   "cell_type": "markdown",
   "metadata": {},
   "source": [
    "## Operações Aritméticas\n",
    "O Python implementa sete operadores aritméticos binários básicos, dois dos quais podem funcionar como operadores unários.\n",
    "Eles estão resumidos na tabela a seguir:\n",
    "\n",
    "| Operador     | Nome              | Descrição                                                    |\n",
    "|--------------|-------------------|--------------------------------------------------------------|\n",
    "| ``a + b``    | Adição            | Soma de ``a`` e ``b``                                        |\n",
    "| ``a - b``    | Subtração         | Diferença de ``a`` e ``b``                                   |\n",
    "| ``a * b``    | Multiplicação     | Produto de ``a`` e ``b``                                     |\n",
    "| ``a / b``    | Divisão real      | Quociente de ``a`` e ``b``                                   |\n",
    "| ``a // b``   | Divisão por baixo | Quociente de ``a`` e ``b``, removendo as partes fracionárias |\n",
    "| ``a % b``    | Módulo            | Resto inteiro após a divisão de ``a`` por ``b``              |\n",
    "| ``a ** b``   | Exponenciação     | ``a`` elevado à potência de ``b``                            |\n",
    "| ``-a``       | Negação           | Negativo de ``a``                                            |\n",
    "| ``+a``       | Unário positivo   | ``a`` inalterado (raramente usado)                           |\n",
    "\n",
    "Esses operadores podem ser usados e combinados de forma intuitiva, usando parênteses padrão para agrupar operações.\n",
    "Por exemplo:"
   ]
  },
  {
   "cell_type": "code",
   "execution_count": null,
   "metadata": {
    "collapsed": false
   },
   "outputs": [
    {
     "ename": "",
     "evalue": "",
     "output_type": "error",
     "traceback": [
      "\u001b[1;31mRunning cells with 'env (Python 3.12.9)' requires the ipykernel package.\n",
      "\u001b[1;31mRun the following command to install 'ipykernel' into the Python environment. \n",
      "\u001b[1;31mCommand: '/home/denstone/Projetos/rolepython/env/bin/python -m pip install ipykernel -U --force-reinstall'"
     ]
    }
   ],
   "source": [
    "# Adição, subtração, multiplicação\n",
    "(4 + 8) * (6.5 - 3)"
   ]
  },
  {
   "cell_type": "markdown",
   "metadata": {},
   "source": [
    "A divisão por baixo é a divisão real com as partes fracionárias truncadas:"
   ]
  },
  {
   "cell_type": "code",
   "execution_count": null,
   "metadata": {
    "collapsed": false
   },
   "outputs": [],
   "source": [
    "# Divisão real\n",
    "print(11 / 2)"
   ]
  },
  {
   "cell_type": "code",
   "execution_count": null,
   "metadata": {
    "collapsed": false
   },
   "outputs": [],
   "source": [
    "# Divisão por baixo\n",
    "print(11 // 2)"
   ]
  },
  {
   "cell_type": "markdown",
   "metadata": {},
   "source": [
    "O operador de divisão por baixo foi adicionado no Python 3. Se você trabalha no Python 2, deve estar ciente de que o operador de divisão padrão (``/``) age como divisão por baixo para números inteiros e como divisão real para números de ponto flutuante.\n",
    "\n",
    "Por fim, mencionarei um oitavo operador aritmético que foi adicionado no Python 3.5: o operador ``a @ b``, que tem como objetivo indicar o *produto matricial* de ``a`` e ``b`` para uso em vários pacotes de álgebra linear."
   ]
  },
  {
   "cell_type": "markdown",
   "metadata": {},
   "source": [
    "## Operações Binárias\n",
    "Além das operações numéricas padrão, o Python inclui operadores para realizar operações lógicas binárias em números inteiros.\n",
    "Esses operadores são muito menos usados do que as operações aritméticas padrão, mas é útil saber que eles existem.\n",
    "Os seis operadores binários estão resumidos na tabela a seguir:\n",
    "\n",
    "| Operador     | Nome                 | Descrição                                         |\n",
    "|--------------|----------------------|---------------------------------------------------|\n",
    "| ``a & b``    | Binário AND          | Bits definidos em ambos ``a`` e ``b``             |\n",
    "| <code>a &#124; b</code>| Binário OR      | Bits defindos em ``a`` ou ``b`` ou ambos     |\n",
    "| ``a ^ b``    | Binário XOR          | Bits definidos em ``a`` ou ``b`` mas não em ambos |\n",
    "| ``a << b``   | Move bits à esquerda | Move bits de ``a`` à esquerda em ``b`` posições   |\n",
    "| ``a >> b``   | Move bits à direita  | Move bits de ``a`` à direita em ``b`` posições    |\n",
    "| ``~a``       | Binário NOT          | Binário negação de ``a``                          |\n",
    "\n",
    "Esses operadores binários só fazem sentido em termos de representação binária de números, que você pode ver usando a função integrada ``bin``:"
   ]
  },
  {
   "cell_type": "code",
   "execution_count": null,
   "metadata": {
    "collapsed": false
   },
   "outputs": [],
   "source": [
    "bin(10)"
   ]
  },
  {
   "cell_type": "markdown",
   "metadata": {},
   "source": [
    "O resultado é prefixado com ``'0b'``, o que indica uma representação binária.\n",
    "O restante dos dígitos indica que o número 10 é expresso como a soma $1 \\cdot 2^3 + 0 \\cdot 2^2 + 1 \\cdot 2^1 + 0 \\cdot 2^0$.\n",
    "Da mesma forma, podemos escrever:"
   ]
  },
  {
   "cell_type": "code",
   "execution_count": null,
   "metadata": {
    "collapsed": false
   },
   "outputs": [],
   "source": [
    "bin(4)"
   ]
  },
  {
   "cell_type": "markdown",
   "metadata": {},
   "source": [
    "Agora, usando o operador binário OR, podemos encontrar o número que combina os bits de 4 e 10:"
   ]
  },
  {
   "cell_type": "code",
   "execution_count": null,
   "metadata": {
    "collapsed": false
   },
   "outputs": [],
   "source": [
    "4 | 10"
   ]
  },
  {
   "cell_type": "code",
   "execution_count": null,
   "metadata": {
    "collapsed": false
   },
   "outputs": [],
   "source": [
    "bin(4 | 10)"
   ]
  },
  {
   "cell_type": "markdown",
   "metadata": {},
   "source": [
    "Esses operadores binários não são tão imediatamente úteis quanto os operadores aritméticos padrão, mas é útil vê-los pelo menos uma vez para entender que tipo de operação eles realizam.\n",
    "Em particular, os usuários de outras linguagens às vezes são tentados a usar XOR (ou seja, ``a ^ b``) quando na verdade querem dizer exponenciação (ou seja, ``a ** b``)."
   ]
  },
  {
   "cell_type": "markdown",
   "metadata": {},
   "source": [
    "## Operações de Atribuição\n",
    "Vimos que as variáveis podem ser atribuídas com o operador \"``=``\" e os valores armazenados para uso posterior. Por exemplo:"
   ]
  },
  {
   "cell_type": "code",
   "execution_count": null,
   "metadata": {
    "collapsed": false
   },
   "outputs": [],
   "source": [
    "a = 24\n",
    "print(a)"
   ]
  },
  {
   "cell_type": "markdown",
   "metadata": {},
   "source": [
    "Podemos usar essas variáveis em expressões com qualquer um dos operadores mencionados anteriormente.\n",
    "Por exemplo, para adicionar 2 a ``a``, escrevemos:"
   ]
  },
  {
   "cell_type": "code",
   "execution_count": null,
   "metadata": {
    "collapsed": false
   },
   "outputs": [],
   "source": [
    "a + 2"
   ]
  },
  {
   "cell_type": "markdown",
   "metadata": {},
   "source": [
    "Talvez queiramos atualizar a variável ``a`` com esse novo valor; nesse caso, poderíamos combinar a adição e a atribuição e escrever ``a = a + 2``.\n",
    "Como esse tipo de operação combinada e atribuição é muito comum, o Python inclui operadores de atualização embutidos para todas as operações aritméticas:"
   ]
  },
  {
   "cell_type": "code",
   "execution_count": null,
   "metadata": {
    "collapsed": false
   },
   "outputs": [],
   "source": [
    "a += 2  # equivalente a \"a = a + 2\"\n",
    "print(a)"
   ]
  },
  {
   "cell_type": "markdown",
   "metadata": {},
   "source": [
    "Há um operador de atribuição ampliado correspondente a cada um dos operadores binários listados anteriormente; em resumo, eles são:\n",
    "|             |            |             |             |\n",
    "|-------------|------------|-------------|-------------|\n",
    "| ``a += b``  | ``a -= b`` | ``a *= b``  | ``a /= b``  |\n",
    "| ``a //= b`` | ``a %= b`` | ``a **= b`` | ``a &= b``  |\n",
    "| <code>a &#124;= b</code> | ``a ^= b``  | ``a <<= b`` | ``a >>= b`` |\n",
    "\n",
    "Cada um deles é equivalente à operação correspondente seguida de atribuição: ou seja, para qualquer operador \"``■``\", a expressão ``a ■= b`` é equivalente a ``a = a ■ b``, com uma pequena diferença.\n",
    "Para objetos mutáveis, como listas, matrizes ou DataFrames, essas operações de atribuição ampliadas são, na verdade, sutilmente diferentes de suas contrapartes mais detalhadas: elas modificam o conteúdo do objeto original em vez de criar um novo objeto para armazenar o resultado."
   ]
  },
  {
   "cell_type": "markdown",
   "metadata": {},
   "source": [
    "## Operações de Comparação\n",
    "\n",
    "Outro tipo de operação que pode ser muito útil é a comparação de valores diferentes.\n",
    "Para isso, o Python implementa operadores de comparação padrão, que retornam valores booleanos ``True`` e ``False``.\n",
    "As operações de comparação estão listadas na tabela a seguir:\n",
    "\n",
    "| Operação   | Descrição                    | Operação   | Descrição                    |\n",
    "|------------|------------------------------|------------|------------------------------|\n",
    "| ``a == b`` | ``a`` igual a ``b``          | ``a != b`` | ``a`` não igual a ``b``      |\n",
    "| ``a < b``  | ``a`` menor que ``b``        | ``a > b``  | ``a`` maior que ``b``        |\n",
    "| ``a <= b`` | ``a`` menor ou igual a ``b`` | ``a >= b`` | ``a`` maior ou igual a ``b`` |\n",
    "\n",
    "Esses operadores de comparação podem ser combinados com os operadores aritméticos e bit a bit para expressar uma gama praticamente ilimitada de testes para os números.\n",
    "Por exemplo, podemos verificar se um número é ímpar verificando se o módulo com 2 retorna 1:"
   ]
  },
  {
   "cell_type": "code",
   "execution_count": null,
   "metadata": {
    "collapsed": false
   },
   "outputs": [],
   "source": [
    "# 25 é ímpar\n",
    "25 % 2 == 1"
   ]
  },
  {
   "cell_type": "code",
   "execution_count": null,
   "metadata": {
    "collapsed": false
   },
   "outputs": [],
   "source": [
    "# 66 é ímpar\n",
    "66 % 2 == 1"
   ]
  },
  {
   "cell_type": "markdown",
   "metadata": {},
   "source": [
    "Podemos fazer várias comparações em sequência para checar relações mais elaboradas:"
   ]
  },
  {
   "cell_type": "code",
   "execution_count": null,
   "metadata": {
    "collapsed": false
   },
   "outputs": [],
   "source": [
    "# checa se a está entre 15 e 30\n",
    "a = 25\n",
    "15 < a < 30"
   ]
  },
  {
   "cell_type": "markdown",
   "metadata": {},
   "source": [
    "E, para que sua cabeça doa um pouco, dê uma olhada nesta comparação:"
   ]
  },
  {
   "cell_type": "code",
   "execution_count": null,
   "metadata": {
    "collapsed": false
   },
   "outputs": [],
   "source": [
    "-1 == ~0"
   ]
  },
  {
   "cell_type": "markdown",
   "metadata": {},
   "source": [
    "Lembre-se de que ``~`` é o operador de inversão de bits e, evidentemente, quando você inverte todos os bits de zero, acaba com -1.\n",
    "Se você estiver curioso para saber por que isso acontece, procure o esquema de codificação de inteiros *complemento de dois*, que é o que o Python usa para codificar inteiros com sinal, e pense no que acontece quando você começa a inverter todos os bits dos inteiros codificados dessa forma."
   ]
  },
  {
   "cell_type": "markdown",
   "metadata": {},
   "source": [
    "## Operações Booleanas\n",
    "Ao trabalhar com valores booleanos, o Python fornece operadores para combinar os valores usando os conceitos padrão de \"and\", \"or\" e \"not\".\n",
    "Previsivelmente, esses operadores são expressos usando as palavras ``and``, ``or`` e ``not``:"
   ]
  },
  {
   "cell_type": "code",
   "execution_count": null,
   "metadata": {
    "collapsed": false
   },
   "outputs": [],
   "source": [
    "x = 4\n",
    "(x < 6) and (x > 2)"
   ]
  },
  {
   "cell_type": "code",
   "execution_count": null,
   "metadata": {
    "collapsed": false
   },
   "outputs": [],
   "source": [
    "(x > 10) or (x % 2 == 0)"
   ]
  },
  {
   "cell_type": "code",
   "execution_count": null,
   "metadata": {
    "collapsed": false
   },
   "outputs": [],
   "source": [
    "not (x < 6)"
   ]
  },
  {
   "cell_type": "markdown",
   "metadata": {},
   "source": [
    "Os aficionados por álgebra booleana podem notar que o operador XOR não está incluído. É claro que ele pode ser construído de várias maneiras a partir de uma declaração composta dos outros operadores.\n",
    "Caso contrário, um truque inteligente que você pode usar para o XOR de valores booleanos é o seguinte:"
   ]
  },
  {
   "cell_type": "code",
   "execution_count": null,
   "metadata": {
    "collapsed": false
   },
   "outputs": [],
   "source": [
    "# (x > 1) xor (x < 10)\n",
    "(x > 1) != (x < 10)"
   ]
  },
  {
   "cell_type": "markdown",
   "metadata": {},
   "source": [
    "Esses tipos de operações booleanas se tornarão extremamente úteis quando começarmos a discutir *instruções de fluxo de controle*, como condicionais e loops.\n",
    "\n",
    "Um aspecto da linguagem que às vezes causa confusão é quando usar operadores booleanos (``and``, ``or``, ``not``) e quando usar operações binárias (``&``, ``|``, ``~``).\n",
    "A resposta está em seus nomes: Os operadores booleanos devem ser usados quando você quiser calcular *valores booleanos (ou seja, verdade ou falsidade) de declarações inteiras*.\n",
    "As operações binárias devem ser usadas quando você quiser *operar em bits ou componentes individuais dos objetos em questão*."
   ]
  },
  {
   "cell_type": "markdown",
   "metadata": {},
   "source": [
    "## Operadores de Identidade e Associação\n",
    "\n",
    "Assim como ``and``, ``or`` e ``not``, o Python também contém operadores do tipo prosa para verificar a identidade e a associação.\n",
    "Eles são os seguintes:\n",
    "\n",
    "| Operador       | Descrição                                         |\n",
    "|----------------|---------------------------------------------------|\n",
    "| ``a is b``     | True se ``a`` e ``b`` forem objetos idênticos     |\n",
    "| ``a is not b`` | True se ``a`` e ``b`` não forem objetos idênticos |\n",
    "| ``a in b``     | True se ``a`` for um membro de ``b``              |\n",
    "| ``a not in b`` | True se ``a`` não for um membro de ``b``          |"
   ]
  },
  {
   "cell_type": "markdown",
   "metadata": {},
   "source": [
    "### Operadores de Identidade: \"``is``\" e \"``is not``\"\n",
    "\n",
    "Os operadores de identidade, \"``is``\" e \"``is not``\", verificam a *identidade do objeto*.\n",
    "A identidade do objeto é diferente de igualdade, como podemos ver aqui:"
   ]
  },
  {
   "cell_type": "code",
   "execution_count": null,
   "metadata": {
    "collapsed": false
   },
   "outputs": [],
   "source": [
    "a = [1, 2, 3]\n",
    "b = [1, 2, 3]"
   ]
  },
  {
   "cell_type": "code",
   "execution_count": null,
   "metadata": {
    "collapsed": false
   },
   "outputs": [],
   "source": [
    "a == b"
   ]
  },
  {
   "cell_type": "code",
   "execution_count": null,
   "metadata": {
    "collapsed": false
   },
   "outputs": [],
   "source": [
    "a is b"
   ]
  },
  {
   "cell_type": "code",
   "execution_count": null,
   "metadata": {
    "collapsed": false
   },
   "outputs": [],
   "source": [
    "a is not b"
   ]
  },
  {
   "cell_type": "markdown",
   "metadata": {},
   "source": [
    "Como são objetos idênticos? Aqui está um exemplo:"
   ]
  },
  {
   "cell_type": "code",
   "execution_count": null,
   "metadata": {
    "collapsed": false
   },
   "outputs": [],
   "source": [
    "a = [1, 2, 3]\n",
    "b = a\n",
    "a is b"
   ]
  },
  {
   "cell_type": "markdown",
   "metadata": {},
   "source": [
    "A diferença entre os dois casos aqui é que, no primeiro, ``a`` e ``b`` apontam para *objetos diferentes*, enquanto no segundo eles apontam para o *mesmo objeto*.\n",
    "Como vimos na seção anterior, as variáveis Python são ponteiros. O operador \"``is``\" verifica se as duas variáveis estão apontando para o mesmo contêiner (objeto), em vez de se referir ao que o contêiner contém.\n",
    "Com isso em mente, na maioria dos casos em que um iniciante se sente tentado a usar \"``is``\", o que ele realmente quer dizer é ``==``."
   ]
  },
  {
   "cell_type": "markdown",
   "metadata": {},
   "source": [
    "### Operadores de Associação\n",
    "Os operadores de associação verificam a associação dentro de objetos compostos.\n",
    "Assim, por exemplo, podemos escrever:"
   ]
  },
  {
   "cell_type": "code",
   "execution_count": null,
   "metadata": {
    "collapsed": false
   },
   "outputs": [],
   "source": [
    "1 in [1, 2, 3]"
   ]
  },
  {
   "cell_type": "code",
   "execution_count": null,
   "metadata": {
    "collapsed": false
   },
   "outputs": [],
   "source": [
    "2 not in [1, 2, 3]"
   ]
  },
  {
   "cell_type": "markdown",
   "metadata": {},
   "source": [
    "Essas operações de associação são um exemplo do que torna o Python tão fácil de usar em comparação com linguagens de baixo nível, como C.\n",
    "Em C, a associação geralmente seria determinada pela construção manual de um loop sobre a lista e pela verificação da igualdade de cada valor.\n",
    "Em Python, basta digitar o que você deseja saber, de uma maneira que lembra a prosa simples em inglês."
   ]
  },
  {
   "cell_type": "markdown",
   "metadata": {},
   "source": [
    "<!--NAVIGATION-->\n",
    "< [Semântica Básica do Python: Variáveis e Objetos](03-Semantics-Variables.ipynb) | [Conteúdo](Index.ipynb) | [Tipos Internos: Valores Simples](05-Built-in-Scalar-Types.ipynb) >"
   ]
  }
 ],
 "metadata": {
  "anaconda-cloud": {},
  "kernelspec": {
   "display_name": "env",
   "language": "python",
   "name": "python3"
  },
  "language_info": {
   "codemirror_mode": {
    "name": "ipython",
    "version": 3
   },
   "file_extension": ".py",
   "mimetype": "text/x-python",
   "name": "python",
   "nbconvert_exporter": "python",
   "pygments_lexer": "ipython3",
   "version": "3.12.9"
  }
 },
 "nbformat": 4,
 "nbformat_minor": 0
}
